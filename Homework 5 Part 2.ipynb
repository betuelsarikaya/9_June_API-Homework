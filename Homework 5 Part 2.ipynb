{
 "cells": [
  {
   "cell_type": "markdown",
   "id": "7b3f99f4-1d34-4669-afd3-049e79c42a04",
   "metadata": {},
   "source": [
    "Homework 5 Part 2\n",
    "\n",
    "#Weather API\n",
    "\n"
   ]
  },
  {
   "cell_type": "markdown",
   "id": "71c4bc5e-323c-463d-94d2-3aa757c5f63e",
   "metadata": {},
   "source": [
    "1. Examine both Open Meteo and Tomorrow and decide which one you'd prefer to use. What drove your decision?\n",
    "\n",
    "I decided to use Open Meteo because it's open source.\n"
   ]
  },
  {
   "cell_type": "markdown",
   "id": "fb250ebc-2d0e-488a-8d03-aa9cece7f9c1",
   "metadata": {},
   "source": [
    "2. What is the URL to the documentation? (You don't use code for this one)\n",
    "\n",
    "https://open-meteo.com/en/docs"
   ]
  },
  {
   "cell_type": "code",
   "execution_count": null,
   "id": "2b54698d-81c7-4de9-acb6-5aa0c6dd0d38",
   "metadata": {},
   "outputs": [],
   "source": [
    "#3. Make a request for the current weather where you are born, or somewhere you've lived.\n",
    "#Request: Remscheid, Germany\n",
    "\n",
    "\n",
    "API_KEY = \n",
    "\n",
    "    g = geocoder.google(Remscheid, key=API_KEY)\n",
    "    g.latlng\n",
    "    #print(f\"{g.latlng}\")\n",
    "    latlng = g.latlng\n",
    "    #print(latlng)\n",
    "\n",
    "\n",
    "\n",
    "\n",
    "\n",
    "\n"
   ]
  },
  {
   "cell_type": "code",
   "execution_count": null,
   "id": "599eabc2-b199-43a2-b3e9-57674c2c9e4d",
   "metadata": {},
   "outputs": [],
   "source": []
  },
  {
   "cell_type": "code",
   "execution_count": null,
   "id": "9808eff1-723f-49f1-83eb-83b7fd839b44",
   "metadata": {},
   "outputs": [],
   "source": []
  }
 ],
 "metadata": {
  "kernelspec": {
   "display_name": "Python 3 (ipykernel)",
   "language": "python",
   "name": "python3"
  },
  "language_info": {
   "codemirror_mode": {
    "name": "ipython",
    "version": 3
   },
   "file_extension": ".py",
   "mimetype": "text/x-python",
   "name": "python",
   "nbconvert_exporter": "python",
   "pygments_lexer": "ipython3",
   "version": "3.12.0"
  }
 },
 "nbformat": 4,
 "nbformat_minor": 5
}
